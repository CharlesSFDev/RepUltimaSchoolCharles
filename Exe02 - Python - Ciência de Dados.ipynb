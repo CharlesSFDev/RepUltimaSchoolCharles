{
 "cells": [
  {
   "cell_type": "code",
   "execution_count": 9,
   "id": "f5908b99",
   "metadata": {},
   "outputs": [
    {
     "name": "stdout",
     "output_type": "stream",
     "text": [
      "Digite a palavra em questão: ararar\n"
     ]
    }
   ],
   "source": [
    "palavra = str(input('Digite a palavra em questão: '))"
   ]
  },
  {
   "cell_type": "code",
   "execution_count": 10,
   "id": "ea8d7c27",
   "metadata": {},
   "outputs": [
    {
     "name": "stdout",
     "output_type": "stream",
     "text": [
      "Você digitou a palavra ararar, que tem 6 caracteres.\n"
     ]
    }
   ],
   "source": [
    "print(f'Você digitou a palavra {palavra}, que tem {(len(palavra))} caracteres.')"
   ]
  },
  {
   "cell_type": "code",
   "execution_count": 11,
   "id": "93096d90",
   "metadata": {},
   "outputs": [
    {
     "name": "stdout",
     "output_type": "stream",
     "text": [
      "{'a': 3, 'r': 3}\n",
      "A letra mais repetida da palavra ararar é a.\n"
     ]
    }
   ],
   "source": [
    "myDic = {}\n",
    "for i in palavra:\n",
    "    myDic[i] = myDic.get(i,0)+1\n",
    "print(myDic)\n",
    "\n",
    "maisRepetida = max(myDic, key = myDic.get)\n",
    "\n",
    "print(f'A letra mais repetida da palavra {palavra} é {maisRepetida}.')"
   ]
  }
 ],
 "metadata": {
  "kernelspec": {
   "display_name": "Python 3",
   "language": "python",
   "name": "python3"
  },
  "language_info": {
   "codemirror_mode": {
    "name": "ipython",
    "version": 3
   },
   "file_extension": ".py",
   "mimetype": "text/x-python",
   "name": "python",
   "nbconvert_exporter": "python",
   "pygments_lexer": "ipython3",
   "version": "3.8.8"
  }
 },
 "nbformat": 4,
 "nbformat_minor": 5
}
