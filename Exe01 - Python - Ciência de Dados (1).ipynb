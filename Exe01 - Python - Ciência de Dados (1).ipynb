{
 "cells": [
  {
   "cell_type": "code",
   "execution_count": null,
   "id": "250f6aa3",
   "metadata": {},
   "outputs": [],
   "source": [
    "# EXERCÍCIO 1 DO CURSO DE CIÊNCIA DE DADOS - ULTIMA SCHOOL\n",
    "\n",
    "# CHARLES DARWIN JOSÉ DA SILVA FORTUNATO\n",
    "\n",
    "# O EXERCÍCIO DEVE PEDIR 2 NÚMEROS AO USUÁRIO E MOSTRAR A SOMA, SUBTRAÇÃO, MULTIPLICAÇÃO, DIVISÃO, EXPONENCIAÇÃO\n",
    "# E RESTO DA DIVISÃO DO PRIMEIRO NÚMERO PELO SEGUNDO NÚMERO"
   ]
  },
  {
   "cell_type": "code",
   "execution_count": 5,
   "id": "3ef39a0a",
   "metadata": {},
   "outputs": [
    {
     "name": "stdout",
     "output_type": "stream",
     "text": [
      "Digite o primeiro número: 10\n"
     ]
    }
   ],
   "source": [
    "num1 = int(input('Digite o primeiro número: '))"
   ]
  },
  {
   "cell_type": "code",
   "execution_count": 6,
   "id": "e4741f76",
   "metadata": {},
   "outputs": [
    {
     "name": "stdout",
     "output_type": "stream",
     "text": [
      "Digite o segundo número: 3\n"
     ]
    }
   ],
   "source": [
    "num2 = int(input('Digite o segundo número: '))"
   ]
  },
  {
   "cell_type": "code",
   "execution_count": 7,
   "id": "15a72ee5",
   "metadata": {},
   "outputs": [],
   "source": [
    "soma = num1 + num2\n",
    "subtracao = num1 - num2\n",
    "multiplicacao = num1 * num2\n",
    "divisao = num1/num2\n",
    "exponenciacao = num1**num2\n",
    "resto = num1%num2"
   ]
  },
  {
   "cell_type": "code",
   "execution_count": 8,
   "id": "71238fcc",
   "metadata": {},
   "outputs": [
    {
     "name": "stdout",
     "output_type": "stream",
     "text": [
      "SOMA: 10 + 3 = 13.\n",
      "SUBTRAÇÃO: 10 - 3 = 7.\n",
      "MULTIPLICAÇÃO: 10 * 3 = 30.\n",
      "DIVISÃO: 10 / 3 = 3.3333333333333335.\n",
      "EXPONENCIAÇÃO: 10 ** 3 = 1000.\n",
      "RESTO DA DIVISÃO: 10 % 3 = 1.\n"
     ]
    }
   ],
   "source": [
    "print('SOMA: {} + {} = {}.'.format(num1, num2, soma))\n",
    "print('SUBTRAÇÃO: {} - {} = {}.'.format(num1, num2, subtracao))\n",
    "print('MULTIPLICAÇÃO: {} * {} = {}.'.format(num1, num2, multiplicacao))\n",
    "print('DIVISÃO: {} / {} = {}.'.format(num1, num2, divisao))\n",
    "print('EXPONENCIAÇÃO: {} ** {} = {}.'.format(num1, num2, exponenciacao))\n",
    "print('RESTO DA DIVISÃO: {} % {} = {}.'.format(num1, num2, resto))\n"
   ]
  },
  {
   "cell_type": "code",
   "execution_count": null,
   "id": "cc51aa43",
   "metadata": {},
   "outputs": [],
   "source": []
  }
 ],
 "metadata": {
  "kernelspec": {
   "display_name": "Python 3",
   "language": "python",
   "name": "python3"
  },
  "language_info": {
   "codemirror_mode": {
    "name": "ipython",
    "version": 3
   },
   "file_extension": ".py",
   "mimetype": "text/x-python",
   "name": "python",
   "nbconvert_exporter": "python",
   "pygments_lexer": "ipython3",
   "version": "3.8.8"
  }
 },
 "nbformat": 4,
 "nbformat_minor": 5
}
